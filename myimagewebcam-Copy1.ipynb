{
 "cells": [
  {
   "cell_type": "code",
   "execution_count": 1,
   "metadata": {
    "collapsed": true
   },
   "outputs": [],
   "source": [
    "%matplotlib notebook\n",
    "import cv2\n",
    "import matplotlib.pyplot as plt\n",
    "import signal\n",
    "import numpy as np"
   ]
  },
  {
   "cell_type": "code",
   "execution_count": 2,
   "metadata": {
    "collapsed": true
   },
   "outputs": [],
   "source": [
    "from pylab import array, plot, show, axis, arange, figure, uint8 "
   ]
  },
  {
   "cell_type": "code",
   "execution_count": 6,
   "metadata": {
    "collapsed": true
   },
   "outputs": [],
   "source": [
    "import cv2\n",
    "import numpy as np\n",
    "\n",
    "cap=cv2.VideoCapture(0)\n",
    "\n",
    "fgbg=cv2.createBackgroundSubtractorMOG2(detectShadows=False)\n",
    "\n",
    "while True:\n",
    "    ret,frame=cap.read()\n",
    "    cv2.rectangle(frame, (200, 100), (500, 300), (255,0,0), 2)\n",
    "    \n",
    "    newframe=frame[110:290,210:490]\n",
    "\n",
    "    newframe=cv2.cvtColor(newframe,cv2.COLOR_RGB2BGR)\n",
    "   \n",
    "    #gaussian = cv2.GaussianBlur(newframe, (11,11), 0)\n",
    "    \n",
    "    mask=fgbg.apply(newframe)\n",
    "    \n",
    "    kernel_square = np.ones((11,11),np.uint8)\n",
    "    kernel_ellipse= cv2.getStructuringElement(cv2.MORPH_ELLIPSE,(5,5))\n",
    "    \n",
    "    dilation = cv2.dilate(mask,kernel_ellipse,iterations = 1)\n",
    "    erosion = cv2.erode(dilation,kernel_square,iterations = 1)  \n",
    "    dilation = cv2.dilate(dilation,kernel_ellipse,iterations = 1)\n",
    "    erosion = cv2.erode(dilation,kernel_square,iterations = 1)\n",
    "    \n",
    "    dilation2 = cv2.dilate(erosion,kernel_ellipse,iterations = 1)    \n",
    "    filtered = cv2.medianBlur(dilation2,5)\n",
    "    kernel_ellipse= cv2.getStructuringElement(cv2.MORPH_ELLIPSE,(8,8))\n",
    "    \n",
    "    dilation2 = cv2.dilate(filtered,kernel_ellipse,iterations = 1)\n",
    "    kernel_ellipse= cv2.getStructuringElement(cv2.MORPH_ELLIPSE,(5,5))\n",
    "    \n",
    "    dilation3 = cv2.dilate(filtered,kernel_ellipse,iterations = 1)\n",
    "    median = cv2.medianBlur(dilation,5)\n",
    "    \n",
    "    \n",
    "    ret,thresh = cv2.threshold(median,125,255,0)\n",
    "    \n",
    "    cv2.imshow('original',frame)\n",
    "    cv2.imshow('Masked',thresh)\n",
    "    \n",
    "    k=cv2.waitKey(30) & 0xff\n",
    "    if k==27:\n",
    "        cv2.imwrite(\"OUT.jpg\",thresh)\n",
    "        break\n",
    "cap.release()\n",
    "cv2.destroyAllWindows()"
   ]
  },
  {
   "cell_type": "code",
   "execution_count": 84,
   "metadata": {
    "collapsed": true
   },
   "outputs": [],
   "source": [
    "%matplotlib notebook\n",
    "import numpy\n",
    "import cv2\n",
    "import matplotlib.pyplot as plt\n",
    "import signal"
   ]
  },
  {
   "cell_type": "code",
   "execution_count": null,
   "metadata": {
    "collapsed": true
   },
   "outputs": [],
   "source": []
  }
 ],
 "metadata": {
  "kernelspec": {
   "display_name": "Python 3",
   "language": "python",
   "name": "python3"
  },
  "language_info": {
   "codemirror_mode": {
    "name": "ipython",
    "version": 3
   },
   "file_extension": ".py",
   "mimetype": "text/x-python",
   "name": "python",
   "nbconvert_exporter": "python",
   "pygments_lexer": "ipython3",
   "version": "3.5.4"
  }
 },
 "nbformat": 4,
 "nbformat_minor": 2
}
